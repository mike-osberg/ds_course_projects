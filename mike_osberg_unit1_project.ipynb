{
 "cells": [
  {
   "cell_type": "markdown",
   "metadata": {},
   "source": [
    "<h1> Mike Osberg - Project #1 </h1>"
   ]
  },
  {
   "cell_type": "markdown",
   "metadata": {},
   "source": [
    "<h2> Challenge 1: Palindrome Numbers </h2>\n",
    "A palindromic number reads the same both ways. For example, 1234321 is a palindrome. The largest palindrome made from the product of two two-digit numbers is 9009 = 91 × 99. Find the largest palindrome made from the product of two three-digit numbers. Afterward, write a brief explanation walking through your code's logic in markdown.  "
   ]
  },
  {
   "cell_type": "markdown",
   "metadata": {},
   "source": [
    "**My Ideas** \n",
    "\n",
    "x = three digit number 1 y = three digit number 2\n",
    "\n",
    "p = palindrome if p = reverse.p then p = palindrome\n",
    "\n",
    "could do a for loop that multiplies x and y together until it reaches the largest number palindrome\n",
    "\n",
    "or you could take 999 * 999 and start subtracting until you find the first palindrome (this option seems to be faster)"
   ]
  },
  {
   "cell_type": "code",
   "execution_count": 18,
   "metadata": {},
   "outputs": [
    {
     "name": "stdout",
     "output_type": "stream",
     "text": [
      "999  999   False  998001\n",
      "998  998   False  996004\n",
      "997  997   False  994009\n",
      "996  996   False  992016\n",
      "995  995   False  990025\n",
      "994  994   False  988036\n",
      "993  993   False  986049\n",
      "992  992   False  984064\n",
      "991  991   False  982081\n"
     ]
    }
   ],
   "source": [
    "for p in range(999,990,-1):\n",
    "    num1 = p    \n",
    "    num2 = p\n",
    "    pal_search = num1*num2\n",
    "    pal_rev_list= list(reversed(str(pal_search)))\n",
    "    pal_rev_int = int(\"\".join(pal_rev_list))\n",
    "    pal_test = pal_search == pal_rev_int\n",
    "    \n",
    "    \n",
    "   # print(num1,\"\" ,num2, \" \",pal_test,\"\",pal_search)\n",
    "\n",
    "    \n",
    "\n",
    "\n",
    "\n",
    "\n",
    "        \n",
    "\n",
    "\n"
   ]
  },
  {
   "cell_type": "code",
   "execution_count": 24,
   "metadata": {},
   "outputs": [],
   "source": [
    "num3 = list(range(999,990,-1))\n",
    "num4 = list(range(999,990,-1))\n",
    "\n",
    "#print (num4)\n",
    "#pal_search2 = num3*num4\n"
   ]
  },
  {
   "cell_type": "markdown",
   "metadata": {},
   "source": [
    "### Challenge 2: Summation of Primes\n",
    "The sum of the primes below 10 is 2 + 3 + 5 + 7 = 17. Find the sum of all the primes below 2,000. Afterward, write a brief explanation walking through your code's logic in markdown."
   ]
  },
  {
   "cell_type": "markdown",
   "metadata": {},
   "source": [
    "**Explanation**\n",
    "WARNING: T\n",
    "\n",
    "I don't really know a clean way to test whether or not a number is prime (other than dividing that number by all numbers less than itself). \n",
    "\n",
    "So for this challenge, I created a for loop over the range of the numbers we're interested in. Then, I created a list that will hold the results of dividing a given number in the range (\"p\") and all of the numbers smaller than that number down to two. Then, in the second for loop, I created a range of all of the numbers greater than 2 and less than \"p\". I called the numbers in this range q. For each number p, I divide it (modulo style) by every number smaller than p and greater than 1. I store the remainder of each of these in the aforementioned prime_test_list. The, I look at the prime_test_list and how many numbers in that list are greater than 0. If all of them are greater than 0, that means that this number is prime (because it is not divisble by any number smaller than it). That final test occurs with the prime_decision variable, which tests whether the sum of numbers greater than 0 (+2 to include the number p itself and 2) is equal to the number itself. If it is, then the number is prime and I added it to the prime_sum variable that was created at the beginning. "
   ]
  },
  {
   "cell_type": "code",
   "execution_count": 61,
   "metadata": {},
   "outputs": [
    {
     "name": "stdout",
     "output_type": "stream",
     "text": [
      "77\n"
     ]
    }
   ],
   "source": [
    "prime_sum = 17\n",
    "\n",
    "for p in range(11,2001):\n",
    "    prime_test_list = []\n",
    "    for q in range (2,p): \n",
    "        prime_test = p % q\n",
    "        prime_test_list.append(prime_test)\n",
    "        prime_or_not = sum(i >0 for i in prime_test_list)\n",
    "        prime_decision = (prime_or_not + 2)-p\n",
    "        \n",
    "    #print(p,\" \",prime_test_list, \" \", prime_or_not, prime_decision)\n",
    "        if prime_decision == 0:\n",
    "            prime_sum += p\n",
    "            \n",
    "print(prime_sum)\n"
   ]
  },
  {
   "cell_type": "markdown",
   "metadata": {},
   "source": [
    "### Challenge 3: Multiples of 3 and 5\n",
    "If we list all of the natural numbers below 10 that are multiples of 3 or 5, we get 3, 5, 6, and 9. The sum of these multiples is 23. Find the sum of all the multiples of 3 or 5 below 1,000. Afterward, write a brief explanation walking through your code's logic in markdown."
   ]
  },
  {
   "cell_type": "markdown",
   "metadata": {},
   "source": [
    "**Explanation**\n",
    "\n",
    "First I created a variable that would be capture the sum of all values that are divisible by 3 or 5. This is the sum_mult variable. \n",
    "\n",
    "Next I created a for loop that would go through all of the numbers less than 1000.\n",
    "\n",
    "Within the for loop, there are two if tests. The first tests whether a number if divisible by 3. The second loop tests whether a number is divisible by 5. If a number meets either of these tests as TRUE then the code adds that number to the sum_mult variable. \n",
    "\n",
    "Finally, the code prints out the value of the sum_mult variable. \n"
   ]
  },
  {
   "cell_type": "code",
   "execution_count": 17,
   "metadata": {},
   "outputs": [
    {
     "name": "stdout",
     "output_type": "stream",
     "text": [
      "233168\n"
     ]
    }
   ],
   "source": [
    "sum_mult = 0 \n",
    "\n",
    "for m in range(1,1000):\n",
    "    if m % 3 == 0:\n",
    "        sum_mult += m\n",
    "    \n",
    "    elif m % 5 == 0:\n",
    "        sum_mult += m\n",
    "        \n",
    "print(sum_mult)\n",
    "    "
   ]
  },
  {
   "cell_type": "markdown",
   "metadata": {},
   "source": [
    "### Challenge 4: String Compressor\n",
    "Implement a method to perform basic string compression using the counts of repeated characters. (This is called run-length encoding.) For example, the string \"aabcccccaaa\" would become a2b1c5a3. If the “compressed” string would not become smaller than the original string, your method should return the original string. You can assume the string has only uppercase and lowercase letters (a–z). Specify whether your solution is case sensitive or case insensitive and what you would need to change to make it the other. Afterward, write a brief explanation walking through your code's logic in markdown."
   ]
  },
  {
   "cell_type": "code",
   "execution_count": null,
   "metadata": {},
   "outputs": [],
   "source": []
  },
  {
   "cell_type": "code",
   "execution_count": null,
   "metadata": {},
   "outputs": [],
   "source": [
    "def compstring (str):\n",
    "    \n",
    "    for char in str: \n",
    "        print (char)\n",
    "        \n",
    "    return ()\n",
    "compstring(\"tttreees\")\n",
    "        \n",
    "\n",
    "\n"
   ]
  },
  {
   "cell_type": "code",
   "execution_count": 31,
   "metadata": {},
   "outputs": [
    {
     "ename": "TypeError",
     "evalue": "index() takes at least 1 argument (0 given)",
     "output_type": "error",
     "traceback": [
      "\u001b[1;31m---------------------------------------------------------------------------\u001b[0m",
      "\u001b[1;31mTypeError\u001b[0m                                 Traceback (most recent call last)",
      "\u001b[1;32m<ipython-input-31-dde6679d8137>\u001b[0m in \u001b[0;36m<module>\u001b[1;34m()\u001b[0m\n\u001b[0;32m      3\u001b[0m         \u001b[0mprint\u001b[0m\u001b[1;33m(\u001b[0m\u001b[0mchar\u001b[0m\u001b[1;33m.\u001b[0m\u001b[0mindex\u001b[0m\u001b[1;33m(\u001b[0m\u001b[1;33m)\u001b[0m\u001b[1;33m)\u001b[0m\u001b[1;33m\u001b[0m\u001b[0m\n\u001b[0;32m      4\u001b[0m \u001b[1;33m\u001b[0m\u001b[0m\n\u001b[1;32m----> 5\u001b[1;33m \u001b[0mstring_test\u001b[0m\u001b[1;33m(\u001b[0m\u001b[1;34m\"testing\"\u001b[0m\u001b[1;33m)\u001b[0m\u001b[1;33m\u001b[0m\u001b[0m\n\u001b[0m",
      "\u001b[1;32m<ipython-input-31-dde6679d8137>\u001b[0m in \u001b[0;36mstring_test\u001b[1;34m(str)\u001b[0m\n\u001b[0;32m      1\u001b[0m \u001b[1;32mdef\u001b[0m \u001b[0mstring_test\u001b[0m \u001b[1;33m(\u001b[0m\u001b[0mstr\u001b[0m\u001b[1;33m)\u001b[0m\u001b[1;33m:\u001b[0m\u001b[1;33m\u001b[0m\u001b[0m\n\u001b[0;32m      2\u001b[0m     \u001b[1;32mfor\u001b[0m \u001b[0mchar\u001b[0m \u001b[1;32min\u001b[0m \u001b[0mstr\u001b[0m\u001b[1;33m:\u001b[0m\u001b[1;33m\u001b[0m\u001b[0m\n\u001b[1;32m----> 3\u001b[1;33m         \u001b[0mprint\u001b[0m\u001b[1;33m(\u001b[0m\u001b[0mchar\u001b[0m\u001b[1;33m.\u001b[0m\u001b[0mindex\u001b[0m\u001b[1;33m(\u001b[0m\u001b[1;33m)\u001b[0m\u001b[1;33m)\u001b[0m\u001b[1;33m\u001b[0m\u001b[0m\n\u001b[0m\u001b[0;32m      4\u001b[0m \u001b[1;33m\u001b[0m\u001b[0m\n\u001b[0;32m      5\u001b[0m \u001b[0mstring_test\u001b[0m\u001b[1;33m(\u001b[0m\u001b[1;34m\"testing\"\u001b[0m\u001b[1;33m)\u001b[0m\u001b[1;33m\u001b[0m\u001b[0m\n",
      "\u001b[1;31mTypeError\u001b[0m: index() takes at least 1 argument (0 given)"
     ]
    }
   ],
   "source": [
    "def string_test (str):\n",
    "    for char in str:\n",
    "        print(char.index\n",
    "        \n",
    "string_test(\"testing\")\n",
    "\n"
   ]
  },
  {
   "cell_type": "markdown",
   "metadata": {},
   "source": [
    "### Challenge 5: FizzBuzz\n",
    "\n",
    "Write a program that prints all of the numbers from 1 to 100. For multiples of 3, instead of the number, print \"Fizz;\" for multiples of 5, print \"Buzz.\" For numbers that are multiples of both 3 and 5, print \"FizzBuzz.\" Afterward, write a brief explanation walking through your code's logic in markdown."
   ]
  },
  {
   "cell_type": "markdown",
   "metadata": {},
   "source": [
    "**Explanation**\n",
    "\n",
    "I created a for loop that goes through the range of numbers from 1 to 100. The first if condition checks if the value is divisible by both 3 and 5 and if that is true, it returns \"FizzBuzz\". The second two elif conditions conduct the division for 3 and 5 separately. Finally, if none of the above conditions are true, program returns the number itself."
   ]
  },
  {
   "cell_type": "code",
   "execution_count": 20,
   "metadata": {},
   "outputs": [
    {
     "name": "stdout",
     "output_type": "stream",
     "text": [
      "1\n",
      "2\n",
      "Fizz\n",
      "4\n",
      "Buzz\n",
      "Fizz\n",
      "7\n",
      "8\n",
      "Fizz\n",
      "Buzz\n",
      "11\n",
      "Fizz\n",
      "13\n",
      "14\n",
      "FizzBuzz\n",
      "16\n",
      "17\n",
      "Fizz\n",
      "19\n",
      "Buzz\n",
      "Fizz\n",
      "22\n",
      "23\n",
      "Fizz\n",
      "Buzz\n",
      "26\n",
      "Fizz\n",
      "28\n",
      "29\n",
      "FizzBuzz\n",
      "31\n",
      "32\n",
      "Fizz\n",
      "34\n",
      "Buzz\n",
      "Fizz\n",
      "37\n",
      "38\n",
      "Fizz\n",
      "Buzz\n",
      "41\n",
      "Fizz\n",
      "43\n",
      "44\n",
      "FizzBuzz\n",
      "46\n",
      "47\n",
      "Fizz\n",
      "49\n",
      "Buzz\n",
      "Fizz\n",
      "52\n",
      "53\n",
      "Fizz\n",
      "Buzz\n",
      "56\n",
      "Fizz\n",
      "58\n",
      "59\n",
      "FizzBuzz\n",
      "61\n",
      "62\n",
      "Fizz\n",
      "64\n",
      "Buzz\n",
      "Fizz\n",
      "67\n",
      "68\n",
      "Fizz\n",
      "Buzz\n",
      "71\n",
      "Fizz\n",
      "73\n",
      "74\n",
      "FizzBuzz\n",
      "76\n",
      "77\n",
      "Fizz\n",
      "79\n",
      "Buzz\n",
      "Fizz\n",
      "82\n",
      "83\n",
      "Fizz\n",
      "Buzz\n",
      "86\n",
      "Fizz\n",
      "88\n",
      "89\n",
      "FizzBuzz\n",
      "91\n",
      "92\n",
      "Fizz\n",
      "94\n",
      "Buzz\n",
      "Fizz\n",
      "97\n",
      "98\n",
      "Fizz\n",
      "Buzz\n"
     ]
    }
   ],
   "source": [
    "for m in range(1,101):\n",
    "    if m % 3 == 0 and m % 5 == 0:\n",
    "        print(\"FizzBuzz\")\n",
    "    \n",
    "    elif m % 3 == 0:\n",
    "        print(\"Fizz\")\n",
    "    elif m % 5 == 0:\n",
    "        print(\"Buzz\")\n",
    "    else:\n",
    "        print(m)\n",
    "        \n",
    "    "
   ]
  }
 ],
 "metadata": {
  "kernelspec": {
   "display_name": "Python 3",
   "language": "python",
   "name": "python3"
  },
  "language_info": {
   "codemirror_mode": {
    "name": "ipython",
    "version": 3
   },
   "file_extension": ".py",
   "mimetype": "text/x-python",
   "name": "python",
   "nbconvert_exporter": "python",
   "pygments_lexer": "ipython3",
   "version": "3.7.0"
  }
 },
 "nbformat": 4,
 "nbformat_minor": 2
}
